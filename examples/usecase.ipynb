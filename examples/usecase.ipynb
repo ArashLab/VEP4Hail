{
 "cells": [
  {
   "cell_type": "code",
   "execution_count": null,
   "id": "986af664-274b-400e-a8e1-be0a0d34860a",
   "metadata": {},
   "outputs": [],
   "source": [
    "import hail as hl\n",
    "hl.init(quiet=True, skip_logging_configuration=True)"
   ]
  },
  {
   "cell_type": "code",
   "execution_count": null,
   "id": "a560e24e-ca4e-48d4-89f8-9dd8de922b18",
   "metadata": {},
   "outputs": [],
   "source": [
    "hl.spark_context().setLogLevel('ERROR')"
   ]
  },
  {
   "cell_type": "markdown",
   "id": "1f2a4535-d44e-4c6d-967f-c167291c303b",
   "metadata": {},
   "source": [
    "# Prepare VEP Input\n",
    "- Read the VCF\n",
    "- Subset variants to about 2500 (to be small enough for this demo)\n",
    "- Export in Parallel (6 parts)"
   ]
  },
  {
   "cell_type": "code",
   "execution_count": null,
   "id": "786fd700-c293-4dac-a6a0-f186e6009ae0",
   "metadata": {},
   "outputs": [],
   "source": [
    "mt = hl.import_vcf('data/1kg.vcf.bgz')\n",
    "mt.count()"
   ]
  },
  {
   "cell_type": "code",
   "execution_count": null,
   "id": "67b7c487-a0fb-44db-9781-33b4c7bab1c8",
   "metadata": {},
   "outputs": [],
   "source": [
    "mt = mt.sample_rows(0.03)\n",
    "mt.count()"
   ]
  },
  {
   "cell_type": "code",
   "execution_count": null,
   "id": "fe158b21-51ee-462d-af70-3fed838f5714",
   "metadata": {},
   "outputs": [],
   "source": [
    "mt = mt.repartition(6)\n",
    "hl.export_vcf(mt, 'results/parallel.vcf.bgz', parallel='header_per_shard')"
   ]
  },
  {
   "cell_type": "markdown",
   "id": "cc675fc3-e375-481f-916c-14966ce4d815",
   "metadata": {},
   "source": [
    "# Run VEP for each VCF part in parallel"
   ]
  },
  {
   "cell_type": "code",
   "execution_count": null,
   "id": "47773d0b-4ef9-4749-876c-1c8f524ee3f1",
   "metadata": {},
   "outputs": [],
   "source": [
    "%%bash\n",
    "for file in $(ls results/parallel.vcf.bgz/part-*.bgz)\n",
    "do\n",
    "    file=$(basename -- $file)\n",
    "    file=${file%.*}\n",
    "    echo $file\n",
    "    vep --everything --fork 2 --format vcf --input_file results/parallel.vcf.bgz/$file.bgz --json --compress_output bgzip -output_file results/vep_jsons/$file.json.bgz --cache --offline --assembly GRCh37 --merged &\n",
    "done\n",
    "wait"
   ]
  },
  {
   "cell_type": "markdown",
   "id": "1d237355-eb1c-4a34-8390-2a69e18aec26",
   "metadata": {},
   "source": [
    "# Fix JSON files for Hail and find schema of each part (in parallel)"
   ]
  },
  {
   "cell_type": "code",
   "execution_count": null,
   "id": "928ba677-0968-4a81-a20e-e01fdd671b25",
   "metadata": {},
   "outputs": [],
   "source": [
    "%%bash\n",
    "for file in $(ls -1 results/vep_jsons/part-*.bgz)\n",
    "do\n",
    "    file=$(basename -- $file)\n",
    "    file=${file%.*}\n",
    "    file=${file%.*}\n",
    "    echo $file\n",
    "    echo python ../src/process.py results/vep_jsons/$file.json.bgz results/hail_jsons/$file.json.bgz results/hail_jsons/$file.schema.pickle &\n",
    "    python ../src/process.py results/vep_jsons/$file.json.bgz results/hail_jsons/$file.json.bgz results/hail_jsons/$file.schema.pickle &\n",
    "done\n",
    "wait"
   ]
  },
  {
   "cell_type": "markdown",
   "id": "a889d52c-1140-4cba-b43e-4a4b6294039b",
   "metadata": {},
   "source": [
    "# Merge all schema together"
   ]
  },
  {
   "cell_type": "code",
   "execution_count": null,
   "id": "ff0a1597-d4e5-41c9-b14f-a88546cc9ff8",
   "metadata": {},
   "outputs": [],
   "source": [
    "%%bash\n",
    "python ../src/combine.py \"results/hail_jsons/*.schema.pickle\" results/final_schema.txt"
   ]
  },
  {
   "cell_type": "code",
   "execution_count": null,
   "id": "5da28a34-8e61-4996-bec6-6fefce08c5e8",
   "metadata": {},
   "outputs": [],
   "source": [
    "with open('results/final_schema.txt', 'r') as file:\n",
    "    schema = file.read()\n",
    "    print(schema)"
   ]
  },
  {
   "cell_type": "markdown",
   "id": "11e20fdf-7ed1-46d8-afb3-0662e271b0aa",
   "metadata": {},
   "source": [
    "# Load all the fixed JSONs in parallel"
   ]
  },
  {
   "cell_type": "code",
   "execution_count": null,
   "id": "de8f6ae9-2250-49d5-a9e2-848aece34241",
   "metadata": {},
   "outputs": [],
   "source": [
    "ht = hl.import_table('results/vep_jsons/part-*.json.bgz', no_header=True).cache()\n",
    "ht.count()"
   ]
  },
  {
   "cell_type": "code",
   "execution_count": null,
   "id": "e4850d9e-df80-4333-bc58-460b833702fa",
   "metadata": {},
   "outputs": [],
   "source": [
    "ht.show()"
   ]
  },
  {
   "cell_type": "markdown",
   "id": "3ae4fd48-c61f-4100-b0c5-579c6d35f254",
   "metadata": {},
   "source": [
    "# Parse Fixed VEP JSONs"
   ]
  },
  {
   "cell_type": "code",
   "execution_count": null,
   "id": "94f54633-c9d7-4335-bfc4-c4b09ffa94c1",
   "metadata": {},
   "outputs": [],
   "source": [
    "ht = ht.transmute(vep = hl.parse_json(ht.f0, dtype=schema))\n",
    "ht.describe()"
   ]
  },
  {
   "cell_type": "code",
   "execution_count": null,
   "id": "0b79630d-ddb4-4eb6-8e17-3a584e76d81e",
   "metadata": {},
   "outputs": [],
   "source": [
    "ht.show()"
   ]
  },
  {
   "cell_type": "code",
   "execution_count": null,
   "id": "fe556e13-9749-43a2-a27e-f84a3d3a01a4",
   "metadata": {},
   "outputs": [],
   "source": [
    "def Flatten(ht, feildName):\n",
    "    ht = ht.flatten()\n",
    "    expr = {k:k.replace(f'{feildName}.','') for k in ht.row}\n",
    "    ht = ht.rename(expr)\n",
    "    return ht"
   ]
  },
  {
   "cell_type": "code",
   "execution_count": null,
   "id": "0a5d724b-f289-4488-8da1-c9e33d3f9df3",
   "metadata": {},
   "outputs": [],
   "source": [
    "def BreakList(ht, feildName, indexName):\n",
    "    htKeys = list(ht.key)\n",
    "    assert len(htKeys)==1, 'Table must have one key column'\n",
    "    assert ht.count()==ht.distinct().count(), 'Table key must be unique for each row'\n",
    "    htKey = htKeys[0]\n",
    "\n",
    "    fu = ht.select(feildName)\n",
    "    ht = ht.drop(feildName)\n",
    "    fu = fu.explode(feildName)\n",
    "    expr = {htKey: hl.agg.collect(fu[htKey])}\n",
    "    fu = fu.group_by(fu[feildName]).aggregate(**expr)\n",
    "    fu = fu.add_index(indexName)\n",
    "    fu = fu.key_by(indexName)\n",
    "    mm = fu.select(htKey)\n",
    "    fu = fu.drop(htKey)\n",
    "    mm = mm.explode(htKey)\n",
    "    \n",
    "    fu = Flatten(fu, feildName)\n",
    "    fu = fu.key_by(indexName)\n",
    "    \n",
    "    return ht, fu, mm"
   ]
  },
  {
   "cell_type": "code",
   "execution_count": null,
   "id": "8e906585-11d2-4c9d-8747-83d135cfb4f4",
   "metadata": {},
   "outputs": [],
   "source": [
    "ht = Flatten(ht, 'vep')\n",
    "ht = ht.transmute(variant = hl.str(':').join([ht.seq_region_name, hl.str(ht.start), ht.allele_string.replace('/', ':')]))\n",
    "ht = ht.key_by(ht.variant)"
   ]
  },
  {
   "cell_type": "code",
   "execution_count": null,
   "id": "36b721a6-57f3-47c3-8a98-d57936d03aa7",
   "metadata": {},
   "outputs": [],
   "source": [
    "ht.describe()"
   ]
  },
  {
   "cell_type": "code",
   "execution_count": null,
   "id": "87bb0f70-ad85-4225-8e4a-323762bf4594",
   "metadata": {},
   "outputs": [],
   "source": [
    "ht, tc, tc_mm = BreakList(ht, 'transcript_consequences', 'tcId')\n",
    "ht, ic, ic_mm = BreakList(ht, 'intergenic_consequences', 'icId')\n",
    "ht, rc, rc_mm = BreakList(ht, 'regulatory_feature_consequences', 'rcId')\n",
    "ht, mc, mc_mm = BreakList(ht, 'motif_feature_consequences', 'mcId')\n",
    "ht, cv, cv_mm = BreakList(ht, 'colocated_variants', 'cvId')"
   ]
  },
  {
   "cell_type": "code",
   "execution_count": null,
   "id": "4cdef440-43a2-4ee5-9a28-f90564636d43",
   "metadata": {},
   "outputs": [],
   "source": [
    "tc.show()"
   ]
  },
  {
   "cell_type": "code",
   "execution_count": null,
   "id": "a0cdcde9-c50c-41d1-9bf6-1b422c451683",
   "metadata": {},
   "outputs": [],
   "source": [
    "tc, tc_ct, tc_ct_mm = BreakList(tc, 'consequence_terms', 'ctId')\n",
    "ic, ic_ct, ic_ct_mm = BreakList(ic, 'consequence_terms', 'ctId')\n",
    "rc, rc_ct, rc_ct_mm = BreakList(rc, 'consequence_terms', 'ctId')\n",
    "mc, mc_ct, mc_ct_mm = BreakList(mc, 'consequence_terms', 'ctId')\n",
    "mc, mc_tf, mc_tf_mm = BreakList(mc, 'transcription_factors', 'tfId')"
   ]
  },
  {
   "cell_type": "code",
   "execution_count": null,
   "id": "5075353e-6200-4675-b184-a5f334527ce1",
   "metadata": {},
   "outputs": [],
   "source": [
    "mc.describe()"
   ]
  }
 ],
 "metadata": {
  "kernelspec": {
   "display_name": "Python 3 (ipykernel)",
   "language": "python",
   "name": "python3"
  },
  "language_info": {
   "codemirror_mode": {
    "name": "ipython",
    "version": 3
   },
   "file_extension": ".py",
   "mimetype": "text/x-python",
   "name": "python",
   "nbconvert_exporter": "python",
   "pygments_lexer": "ipython3",
   "version": "3.9.6"
  }
 },
 "nbformat": 4,
 "nbformat_minor": 5
}
